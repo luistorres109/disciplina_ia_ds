{
  "nbformat": 4,
  "nbformat_minor": 0,
  "metadata": {
    "colab": {
      "provenance": [],
      "authorship_tag": "ABX9TyM2wMc41hA2iykuFe9vBqaH",
      "include_colab_link": true
    },
    "kernelspec": {
      "name": "python3",
      "display_name": "Python 3"
    },
    "language_info": {
      "name": "python"
    }
  },
  "cells": [
    {
      "cell_type": "markdown",
      "metadata": {
        "id": "view-in-github",
        "colab_type": "text"
      },
      "source": [
        "<a href=\"https://colab.research.google.com/github/luistorres109/disciplina_ia_ds/blob/main/ia_trabalho_1.ipynb\" target=\"_parent\"><img src=\"https://colab.research.google.com/assets/colab-badge.svg\" alt=\"Open In Colab\"/></a>"
      ]
    },
    {
      "cell_type": "code",
      "execution_count": null,
      "metadata": {
        "colab": {
          "base_uri": "https://localhost:8080/"
        },
        "id": "8S8IkMowjjg2",
        "outputId": "667287f3-6eb4-4b1b-b0da-6de81242c57d"
      },
      "outputs": [
        {
          "output_type": "stream",
          "name": "stdout",
          "text": [
            "Mounted at /content/drive\n"
          ]
        }
      ],
      "source": [
        "from google.colab import drive\n",
        "\n",
        "drive.mount('/content/drive')"
      ]
    },
    {
      "cell_type": "code",
      "source": [
        "import pandas as pd\n",
        "\n",
        "df1 = pd.read_csv(\"/content/drive/MyDrive/train.csv\")\n",
        "df = df1.dropna()\n",
        "\n",
        "print(df)"
      ],
      "metadata": {
        "colab": {
          "base_uri": "https://localhost:8080/"
        },
        "id": "JveGCT7nj7US",
        "outputId": "53f7fba1-b7e7-4b35-ecd2-1f208a086766"
      },
      "execution_count": null,
      "outputs": [
        {
          "output_type": "stream",
          "name": "stdout",
          "text": [
            "     PassengerId  Survived  Pclass  \\\n",
            "1              2         1       1   \n",
            "3              4         1       1   \n",
            "6              7         0       1   \n",
            "10            11         1       3   \n",
            "11            12         1       1   \n",
            "..           ...       ...     ...   \n",
            "871          872         1       1   \n",
            "872          873         0       1   \n",
            "879          880         1       1   \n",
            "887          888         1       1   \n",
            "889          890         1       1   \n",
            "\n",
            "                                                  Name     Sex   Age  SibSp  \\\n",
            "1    Cumings, Mrs. John Bradley (Florence Briggs Th...  female  38.0      1   \n",
            "3         Futrelle, Mrs. Jacques Heath (Lily May Peel)  female  35.0      1   \n",
            "6                              McCarthy, Mr. Timothy J    male  54.0      0   \n",
            "10                     Sandstrom, Miss. Marguerite Rut  female   4.0      1   \n",
            "11                            Bonnell, Miss. Elizabeth  female  58.0      0   \n",
            "..                                                 ...     ...   ...    ...   \n",
            "871   Beckwith, Mrs. Richard Leonard (Sallie Monypeny)  female  47.0      1   \n",
            "872                           Carlsson, Mr. Frans Olof    male  33.0      0   \n",
            "879      Potter, Mrs. Thomas Jr (Lily Alexenia Wilson)  female  56.0      0   \n",
            "887                       Graham, Miss. Margaret Edith  female  19.0      0   \n",
            "889                              Behr, Mr. Karl Howell    male  26.0      0   \n",
            "\n",
            "     Parch    Ticket     Fare        Cabin Embarked  \n",
            "1        0  PC 17599  71.2833          C85        C  \n",
            "3        0    113803  53.1000         C123        S  \n",
            "6        0     17463  51.8625          E46        S  \n",
            "10       1   PP 9549  16.7000           G6        S  \n",
            "11       0    113783  26.5500         C103        S  \n",
            "..     ...       ...      ...          ...      ...  \n",
            "871      1     11751  52.5542          D35        S  \n",
            "872      0       695   5.0000  B51 B53 B55        S  \n",
            "879      1     11767  83.1583          C50        C  \n",
            "887      0    112053  30.0000          B42        S  \n",
            "889      0    111369  30.0000         C148        C  \n",
            "\n",
            "[183 rows x 12 columns]\n"
          ]
        }
      ]
    },
    {
      "cell_type": "code",
      "source": [
        "from sklearn.model_selection import train_test_split\n",
        "\n",
        "# Separar os dados em features (X) e target (y)\n",
        "X = df[['Sex', 'Age', 'Parch']]\n",
        "y = df['Survived']"
      ],
      "metadata": {
        "id": "GnCzWfw-kihi"
      },
      "execution_count": null,
      "outputs": []
    },
    {
      "cell_type": "code",
      "source": [
        "from sklearn.tree import DecisionTreeClassifier\n",
        "from sklearn.preprocessing import OneHotEncoder\n",
        "from sklearn.neighbors import KNeighborsClassifier\n",
        "from sklearn.ensemble import RandomForestClassifier\n",
        "from sklearn.metrics import accuracy_score, precision_score, recall_score, f1_score, confusion_matrix\n",
        "\n",
        "# Dividir os dados em treino, validação e teste (70-10-20)\n",
        "X_train, X_temp, y_train, y_temp = train_test_split(X, y, test_size=0.3, random_state=42)\n",
        "X_val, X_test, y_val, y_test = train_test_split(X_temp, y_temp, test_size=0.66, random_state=42)\n",
        "\n",
        "# Aplicar codificação categórica apenas na coluna 'Sex'\n",
        "encoder = OneHotEncoder(drop='first', sparse_output=False)  # 'drop' para evitar multicolinearidade\n",
        "X_train_encoded = encoder.fit_transform(X_train[['Sex']])\n",
        "X_val_encoded = encoder.transform(X_val[['Sex']])\n",
        "X_test_encoded = encoder.transform(X_test[['Sex']])\n",
        "\n",
        "# Combinar as colunas codificadas com as outras colunas do DataFrame\n",
        "X_train_encoded = pd.DataFrame(X_train_encoded, columns=encoder.get_feature_names_out(['Sex']), index=X_train.index)\n",
        "X_val_encoded = pd.DataFrame(X_val_encoded, columns=encoder.get_feature_names_out(['Sex']), index=X_val.index)\n",
        "X_test_encoded = pd.DataFrame(X_test_encoded, columns=encoder.get_feature_names_out(['Sex']), index=X_test.index)\n",
        "\n",
        "# Incluir a coluna 'Age' e 'Parch' nos DataFrames codificados\n",
        "X_train_encoded[['Age', 'Parch']] = X_train[['Age', 'Parch']]\n",
        "X_val_encoded[['Age', 'Parch']] = X_val[['Age', 'Parch']]\n",
        "X_test_encoded[['Age', 'Parch']] = X_test[['Age', 'Parch']]\n",
        "\n",
        "# Modelos de Machine Learning\n",
        "knn_model = KNeighborsClassifier()\n",
        "decision_tree_model = DecisionTreeClassifier(random_state=42)\n",
        "random_forest_model = RandomForestClassifier(random_state=42)\n",
        "\n",
        "# Treinar modelos\n",
        "knn_model.fit(X_train_encoded, y_train)\n",
        "decision_tree_model.fit(X_train_encoded, y_train)\n",
        "random_forest_model.fit(X_train_encoded, y_train)\n",
        "\n",
        "# Fazer previsões nos conjuntos de validação e teste\n",
        "y_val_pred_knn = knn_model.predict(X_val_encoded)\n",
        "y_val_pred_dt = decision_tree_model.predict(X_val_encoded)\n",
        "y_val_pred_rf = random_forest_model.predict(X_val_encoded)\n",
        "\n",
        "y_test_pred_knn = knn_model.predict(X_test_encoded)\n",
        "y_test_pred_dt = decision_tree_model.predict(X_test_encoded)\n",
        "y_test_pred_rf = random_forest_model.predict(X_test_encoded)\n",
        "\n",
        "# Avaliar os modelos\n",
        "def evaluate_model(y_true, y_pred):\n",
        "    accuracy = accuracy_score(y_true, y_pred)\n",
        "    precision = precision_score(y_true, y_pred)\n",
        "    recall = recall_score(y_true, y_pred)\n",
        "    f1 = f1_score(y_true, y_pred)\n",
        "    conf_matrix = confusion_matrix(y_true, y_pred)\n",
        "    return accuracy, precision, recall, f1, conf_matrix\n",
        "\n",
        "val_knn_metrics = evaluate_model(y_val, y_val_pred_knn)\n",
        "val_dt_metrics = evaluate_model(y_val, y_val_pred_dt)\n",
        "val_rf_metrics = evaluate_model(y_val, y_val_pred_rf)\n",
        "\n",
        "test_knn_metrics = evaluate_model(y_test, y_test_pred_knn)\n",
        "test_dt_metrics = evaluate_model(y_test, y_test_pred_dt)\n",
        "test_rf_metrics = evaluate_model(y_test, y_test_pred_rf)"
      ],
      "metadata": {
        "id": "54nJoAhpllbz"
      },
      "execution_count": 31,
      "outputs": []
    },
    {
      "cell_type": "code",
      "source": [
        "print(\"Validação - k-NN:\")\n",
        "print(\"Accuracy:\", val_knn_metrics[0])\n",
        "print(\"Precision:\", val_knn_metrics[1])\n",
        "print(\"Recall:\", val_knn_metrics[2])\n",
        "print(\"F1-score:\", val_knn_metrics[3])\n",
        "print(\"Confusion Matrix:\\n\", val_knn_metrics[4])\n",
        "\n",
        "print(\"\\nValidação - Decision Tree:\")\n",
        "print(\"Accuracy:\", val_dt_metrics[0])\n",
        "print(\"Precision:\", val_dt_metrics[1])\n",
        "print(\"Recall:\", val_dt_metrics[2])\n",
        "print(\"F1-score:\", val_dt_metrics[3])\n",
        "print(\"Confusion Matrix:\\n\", val_dt_metrics[4])\n",
        "\n",
        "print(\"\\nValidação - Random Forest:\")\n",
        "print(\"Accuracy:\", val_rf_metrics[0])\n",
        "print(\"Precision:\", val_rf_metrics[1])\n",
        "print(\"Recall:\", val_rf_metrics[2])\n",
        "print(\"F1-score:\", val_rf_metrics[3])\n",
        "print(\"Confusion Matrix:\\n\", val_rf_metrics[4])\n",
        "\n",
        "print(\"\\nTeste - k-NN:\")\n",
        "print(\"Accuracy:\", test_knn_metrics[0])\n",
        "print(\"Precision:\", test_knn_metrics[1])\n",
        "print(\"Recall:\", test_knn_metrics[2])\n",
        "print(\"F1-score:\", test_knn_metrics[3])\n",
        "print(\"Confusion Matrix:\\n\", test_knn_metrics[4])\n",
        "\n",
        "print(\"\\nTeste - Decision Tree:\")\n",
        "print(\"Accuracy:\", test_dt_metrics[0])\n",
        "print(\"Precision:\", test_dt_metrics[1])\n",
        "print(\"Recall:\", test_dt_metrics[2])\n",
        "print(\"F1-score:\", test_dt_metrics[3])\n",
        "print(\"Confusion Matrix:\\n\", test_dt_metrics[4])\n",
        "\n",
        "print(\"\\nTeste - Random Forest:\")\n",
        "print(\"Accuracy:\", test_rf_metrics[0])\n",
        "print(\"Precision:\", test_rf_metrics[1])\n",
        "print(\"Recall:\", test_rf_metrics[2])\n",
        "print(\"F1-score:\", test_rf_metrics[3])\n",
        "print(\"Confusion Matrix:\\n\", test_rf_metrics[4])"
      ],
      "metadata": {
        "colab": {
          "base_uri": "https://localhost:8080/"
        },
        "id": "1fcOEbdOl1w-",
        "outputId": "8ad12efb-235b-4cfe-b842-4d840dc0f964"
      },
      "execution_count": 32,
      "outputs": [
        {
          "output_type": "stream",
          "name": "stdout",
          "text": [
            "Validação - k-NN:\n",
            "Accuracy: 0.6666666666666666\n",
            "Precision: 0.7058823529411765\n",
            "Recall: 0.9230769230769231\n",
            "F1-score: 0.8000000000000002\n",
            "Confusion Matrix:\n",
            " [[ 0  5]\n",
            " [ 1 12]]\n",
            "\n",
            "Validação - Decision Tree:\n",
            "Accuracy: 0.8333333333333334\n",
            "Precision: 0.9166666666666666\n",
            "Recall: 0.8461538461538461\n",
            "F1-score: 0.8799999999999999\n",
            "Confusion Matrix:\n",
            " [[ 4  1]\n",
            " [ 2 11]]\n",
            "\n",
            "Validação - Random Forest:\n",
            "Accuracy: 0.8888888888888888\n",
            "Precision: 0.9230769230769231\n",
            "Recall: 0.9230769230769231\n",
            "F1-score: 0.9230769230769231\n",
            "Confusion Matrix:\n",
            " [[ 4  1]\n",
            " [ 1 12]]\n",
            "\n",
            "Teste - k-NN:\n",
            "Accuracy: 0.7027027027027027\n",
            "Precision: 0.7037037037037037\n",
            "Recall: 0.8636363636363636\n",
            "F1-score: 0.7755102040816326\n",
            "Confusion Matrix:\n",
            " [[ 7  8]\n",
            " [ 3 19]]\n",
            "\n",
            "Teste - Decision Tree:\n",
            "Accuracy: 0.7837837837837838\n",
            "Precision: 0.8181818181818182\n",
            "Recall: 0.8181818181818182\n",
            "F1-score: 0.8181818181818182\n",
            "Confusion Matrix:\n",
            " [[11  4]\n",
            " [ 4 18]]\n",
            "\n",
            "Teste - Random Forest:\n",
            "Accuracy: 0.7567567567567568\n",
            "Precision: 0.782608695652174\n",
            "Recall: 0.8181818181818182\n",
            "F1-score: 0.8\n",
            "Confusion Matrix:\n",
            " [[10  5]\n",
            " [ 4 18]]\n"
          ]
        }
      ]
    }
  ]
}
