{
  "nbformat": 4,
  "nbformat_minor": 0,
  "metadata": {
    "colab": {
      "provenance": [],
      "authorship_tag": "ABX9TyMwCnAQ18yvM82KQJTOJ3Fg",
      "include_colab_link": true
    },
    "kernelspec": {
      "name": "python3",
      "display_name": "Python 3"
    },
    "language_info": {
      "name": "python"
    }
  },
  "cells": [
    {
      "cell_type": "markdown",
      "metadata": {
        "id": "view-in-github",
        "colab_type": "text"
      },
      "source": [
        "<a href=\"https://colab.research.google.com/github/luistorres109/disciplina_ia_ds/blob/main/TO%20Efapi%20(DS)/trabalho_to_efapi_ds.ipynb\" target=\"_parent\"><img src=\"https://colab.research.google.com/assets/colab-badge.svg\" alt=\"Open In Colab\"/></a>"
      ]
    },
    {
      "cell_type": "code",
      "execution_count": 6,
      "metadata": {
        "colab": {
          "base_uri": "https://localhost:8080/"
        },
        "id": "dL6GXw9N3MjS",
        "outputId": "25eab0f8-af7b-4f03-9735-2346e15d979e"
      },
      "outputs": [
        {
          "output_type": "stream",
          "name": "stdout",
          "text": [
            "Drive already mounted at /content/drive; to attempt to forcibly remount, call drive.mount(\"/content/drive\", force_remount=True).\n"
          ]
        }
      ],
      "source": [
        "from google.colab import drive\n",
        "import pandas as pd\n",
        "\n",
        "drive.mount('/content/drive')"
      ]
    },
    {
      "cell_type": "code",
      "source": [
        "df = pd.read_csv(\"/content/drive/MyDrive/creditcard_2023.csv\")\n",
        "print(df)"
      ],
      "metadata": {
        "colab": {
          "base_uri": "https://localhost:8080/"
        },
        "id": "PmuCuq6f5aMr",
        "outputId": "e9c708b0-36a4-4302-c2a2-7d6f89eac3bb"
      },
      "execution_count": 7,
      "outputs": [
        {
          "output_type": "stream",
          "name": "stdout",
          "text": [
            "            id        V1        V2        V3        V4        V5        V6  \\\n",
            "0            0 -0.260648 -0.469648  2.496266 -0.083724  0.129681  0.732898   \n",
            "1            1  0.985100 -0.356045  0.558056 -0.429654  0.277140  0.428605   \n",
            "2            2 -0.260272 -0.949385  1.728538 -0.457986  0.074062  1.419481   \n",
            "3            3 -0.152152 -0.508959  1.746840 -1.090178  0.249486  1.143312   \n",
            "4            4 -0.206820 -0.165280  1.527053 -0.448293  0.106125  0.530549   \n",
            "...        ...       ...       ...       ...       ...       ...       ...   \n",
            "568625  568625 -0.833437  0.061886 -0.899794  0.904227 -1.002401  0.481454   \n",
            "568626  568626 -0.670459 -0.202896 -0.068129 -0.267328 -0.133660  0.237148   \n",
            "568627  568627 -0.311997 -0.004095  0.137526 -0.035893 -0.042291  0.121098   \n",
            "568628  568628  0.636871 -0.516970 -0.300889 -0.144480  0.131042 -0.294148   \n",
            "568629  568629 -0.795144  0.433236 -0.649140  0.374732 -0.244976 -0.603493   \n",
            "\n",
            "              V7        V8        V9  ...       V21       V22       V23  \\\n",
            "0       0.519014 -0.130006  0.727159  ... -0.110552  0.217606 -0.134794   \n",
            "1       0.406466 -0.133118  0.347452  ... -0.194936 -0.605761  0.079469   \n",
            "2       0.743511 -0.095576 -0.261297  ... -0.005020  0.702906  0.945045   \n",
            "3       0.518269 -0.065130 -0.205698  ... -0.146927 -0.038212 -0.214048   \n",
            "4       0.658849 -0.212660  1.049921  ... -0.106984  0.729727 -0.161666   \n",
            "...          ...       ...       ...  ...       ...       ...       ...   \n",
            "568625 -0.370393  0.189694 -0.938153  ...  0.167503  0.419731  1.288249   \n",
            "568626 -0.016935 -0.147733  0.483894  ...  0.031874  0.388161 -0.154257   \n",
            "568627 -0.070958 -0.019997 -0.122048  ...  0.140788  0.536523 -0.211100   \n",
            "568628  0.580568 -0.207723  0.893527  ... -0.060381 -0.195609 -0.175488   \n",
            "568629 -0.347613 -0.340814  0.253971  ...  0.534853 -0.291514  0.157303   \n",
            "\n",
            "             V24       V25       V26       V27       V28    Amount  Class  \n",
            "0       0.165959  0.126280 -0.434824 -0.081230 -0.151045  17982.10      0  \n",
            "1      -0.577395  0.190090  0.296503 -0.248052 -0.064512   6531.37      0  \n",
            "2      -1.154666 -0.605564 -0.312895 -0.300258 -0.244718   2513.54      0  \n",
            "3      -1.893131  1.003963 -0.515950 -0.165316  0.048424   5384.44      0  \n",
            "4       0.312561 -0.414116  1.071126  0.023712  0.419117  14278.97      0  \n",
            "...          ...       ...       ...       ...       ...       ...    ...  \n",
            "568625 -0.900861  0.560661 -0.006018  3.308968  0.081564   4394.16      1  \n",
            "568626 -0.846452 -0.153443  1.961398 -1.528642  1.704306   4653.40      1  \n",
            "568627 -0.448909  0.540073 -0.755836 -0.487540 -0.268741  23572.85      1  \n",
            "568628 -0.554643 -0.099669 -1.434931 -0.159269 -0.076251  10160.83      1  \n",
            "568629  0.931030 -0.349423 -1.090974 -1.575113  0.722936  21493.92      1  \n",
            "\n",
            "[568630 rows x 31 columns]\n"
          ]
        }
      ]
    },
    {
      "cell_type": "code",
      "source": [
        "from sklearn.model_selection import train_test_split\n",
        "from sklearn.ensemble import RandomForestClassifier\n",
        "\n",
        "# Definindo os modelos\n",
        "X = df.drop('Class', axis=1).dropna()\n",
        "y = df['Class']\n",
        "X_train, X_temp, y_train, y_temp = train_test_split(X, y, test_size=0.3, random_state=42)\n",
        "X_val, X_test, y_val, y_test = train_test_split(X_temp, y_temp, test_size=0.66, random_state=42)\n",
        "\n",
        "# Treinando com Random Forest\n",
        "rf_classifier = RandomForestClassifier(n_estimators=100, random_state=42)\n",
        "rf_classifier.fit(X_train, y_train)\n",
        "y_val_pred = rf_classifier.predict(X_val)\n",
        "y_test_pred = rf_classifier.predict(X_test)"
      ],
      "metadata": {
        "id": "omfb1u_m7JRh"
      },
      "execution_count": 9,
      "outputs": []
    },
    {
      "cell_type": "code",
      "source": [
        "# Calculando o desempenho\n",
        "from sklearn.metrics import classification_report, accuracy_score, confusion_matrix, recall_score, precision_score, f1_score\n",
        "\n",
        "# Calcular a Acurácia\n",
        "accuracy_val = accuracy_score(y_val, y_val_pred)\n",
        "accuracy_test = accuracy_score(y_test, y_test_pred)\n",
        "\n",
        "# Calcular a Sensibilidade (Recall)\n",
        "recall_val = recall_score(y_val, y_val_pred)\n",
        "recall_test = recall_score(y_test, y_test_pred)\n",
        "\n",
        "# Calcular a Precisão\n",
        "precision_val = precision_score(y_val, y_val_pred)\n",
        "precision_test = precision_score(y_test, y_test_pred)\n",
        "\n",
        "# Calcular o F1-score\n",
        "f1_val = f1_score(y_val, y_val_pred)\n",
        "f1_test = f1_score(y_test, y_test_pred)\n",
        "\n",
        "# Exibir os resultados\n",
        "print(\"Métricas para o conjunto de validação:\")\n",
        "print(f\"Acurácia: {accuracy_val}\")\n",
        "print(f\"Sensibilidade (Recall): {recall_val}\")\n",
        "print(f\"Precisão: {precision_val}\")\n",
        "print(f\"F1-score: {f1_val}\")\n",
        "print(\"\\nMétricas para o conjunto de teste:\")\n",
        "print(f\"Acurácia: {accuracy_test}\")\n",
        "print(f\"Sensibilidade (Recall): {recall_test}\")\n",
        "print(f\"Precisão: {precision_test}\")\n",
        "print(f\"F1-score: {f1_test}\")"
      ],
      "metadata": {
        "colab": {
          "base_uri": "https://localhost:8080/"
        },
        "id": "vz-r0LJ-BuC_",
        "outputId": "7c6c02b3-fc79-4e3a-edcf-5792f0e38c40"
      },
      "execution_count": 10,
      "outputs": [
        {
          "output_type": "stream",
          "name": "stdout",
          "text": [
            "Métricas para o conjunto de validação:\n",
            "Acurácia: 0.9998620689655172\n",
            "Sensibilidade (Recall): 0.9997582121515665\n",
            "Precisão: 0.999965451718777\n",
            "F1-score: 0.9998618211966285\n",
            "\n",
            "Métricas para o conjunto de teste:\n",
            "Acurácia: 0.9997957171659754\n",
            "Sensibilidade (Recall): 0.9996990564534688\n",
            "Precisão: 0.9998937639434824\n",
            "F1-score: 0.9997964007187939\n"
          ]
        }
      ]
    }
  ]
}