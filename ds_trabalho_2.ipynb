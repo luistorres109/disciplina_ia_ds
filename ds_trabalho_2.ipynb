{
  "nbformat": 4,
  "nbformat_minor": 0,
  "metadata": {
    "colab": {
      "provenance": [],
      "authorship_tag": "ABX9TyOMzUx3mlvQtNo7S8WnY9Yk",
      "include_colab_link": true
    },
    "kernelspec": {
      "name": "python3",
      "display_name": "Python 3"
    },
    "language_info": {
      "name": "python"
    }
  },
  "cells": [
    {
      "cell_type": "markdown",
      "metadata": {
        "id": "view-in-github",
        "colab_type": "text"
      },
      "source": [
        "<a href=\"https://colab.research.google.com/github/luistorres109/disciplina_ia_ds/blob/main/ds_trabalho_2.ipynb\" target=\"_parent\"><img src=\"https://colab.research.google.com/assets/colab-badge.svg\" alt=\"Open In Colab\"/></a>"
      ]
    },
    {
      "cell_type": "code",
      "source": [
        "from google.colab import drive\n",
        "import pandas as pd\n",
        "\n",
        "drive.mount('/content/drive')\n",
        "df = pd.read_csv(\"/content/drive/MyDrive/online_retail_II.csv\")\n",
        "print(df)"
      ],
      "metadata": {
        "colab": {
          "base_uri": "https://localhost:8080/"
        },
        "id": "ZgrK7sluVlYc",
        "outputId": "fb8739a9-2c35-48e6-cce9-c7a340beadf6"
      },
      "execution_count": null,
      "outputs": [
        {
          "output_type": "stream",
          "name": "stdout",
          "text": [
            "Drive already mounted at /content/drive; to attempt to forcibly remount, call drive.mount(\"/content/drive\", force_remount=True).\n",
            "        Invoice StockCode                          Description  Quantity  \\\n",
            "0        489434     85048  15CM CHRISTMAS GLASS BALL 20 LIGHTS        12   \n",
            "1        489434    79323P                   PINK CHERRY LIGHTS        12   \n",
            "2        489434    79323W                  WHITE CHERRY LIGHTS        12   \n",
            "3        489434     22041         RECORD FRAME 7\" SINGLE SIZE         48   \n",
            "4        489434     21232       STRAWBERRY CERAMIC TRINKET BOX        24   \n",
            "...         ...       ...                                  ...       ...   \n",
            "1067366  581587     22899         CHILDREN'S APRON DOLLY GIRL          6   \n",
            "1067367  581587     23254        CHILDRENS CUTLERY DOLLY GIRL          4   \n",
            "1067368  581587     23255      CHILDRENS CUTLERY CIRCUS PARADE         4   \n",
            "1067369  581587     22138        BAKING SET 9 PIECE RETROSPOT          3   \n",
            "1067370  581587      POST                              POSTAGE         1   \n",
            "\n",
            "                 InvoiceDate  Price  Customer ID         Country  \n",
            "0        2009-12-01 07:45:00   6.95      13085.0  United Kingdom  \n",
            "1        2009-12-01 07:45:00   6.75      13085.0  United Kingdom  \n",
            "2        2009-12-01 07:45:00   6.75      13085.0  United Kingdom  \n",
            "3        2009-12-01 07:45:00   2.10      13085.0  United Kingdom  \n",
            "4        2009-12-01 07:45:00   1.25      13085.0  United Kingdom  \n",
            "...                      ...    ...          ...             ...  \n",
            "1067366  2011-12-09 12:50:00   2.10      12680.0          France  \n",
            "1067367  2011-12-09 12:50:00   4.15      12680.0          France  \n",
            "1067368  2011-12-09 12:50:00   4.15      12680.0          France  \n",
            "1067369  2011-12-09 12:50:00   4.95      12680.0          France  \n",
            "1067370  2011-12-09 12:50:00  18.00      12680.0          France  \n",
            "\n",
            "[1067371 rows x 8 columns]\n"
          ]
        }
      ]
    },
    {
      "cell_type": "code",
      "source": [
        "df = df.loc[df['Quantity'] >= 0]\n",
        "\n",
        "produtos = []\n",
        "quantidades = []\n",
        "media_quantidades = df['Quantity'].fillna(0).sum()/df['Quantity'].count()\n",
        "print(\"A media de quantidades é \"+str(int(media_quantidades)))\n",
        "\n",
        "grupo_produto = df.groupby('Description')['Quantity'].sum()\n",
        "produtos_mais_vendidos = grupo_produto.sort_values(ascending=False).head(10)\n",
        "\n",
        "print(\"Os dez produtos mais vendidos são:\")\n",
        "\n",
        "for indice, produto in enumerate(produtos_mais_vendidos):\n",
        "  produto_vendido = str(produtos_mais_vendidos.index[indice]).lower().title()\n",
        "  produtos.append(produto_vendido)\n",
        "  quantidades.append(produto)\n",
        "  print(\" - \"+produto_vendido)\n",
        "\n",
        "mediana = df['Quantity'].median()\n",
        "\n",
        "print(f'A mediana das vendas é: {mediana}')\n",
        "\n",
        "df['Valor Total'] = df['Quantity'] * df['Price']\n",
        "\n",
        "desvio_padrao = int(df['Valor Total'].std())\n",
        "\n",
        "print(f'O desvio padrão do valor total de vendas é: {desvio_padrao}')"
      ],
      "metadata": {
        "colab": {
          "base_uri": "https://localhost:8080/"
        },
        "id": "BQj2eCdEZMxq",
        "outputId": "27772c2f-bfbb-47e4-cde7-2ba757993d41"
      },
      "execution_count": null,
      "outputs": [
        {
          "output_type": "stream",
          "name": "stdout",
          "text": [
            "A media de quantidades é 11\n",
            "Os dez produtos mais vendidos são:\n",
            " - World War 2 Gliders Asstd Designs\n",
            " - White Hanging Heart T-Light Holder\n",
            " - Assorted Colour Bird Ornament\n",
            " - Paper Craft , Little Birdie\n",
            " - Jumbo Bag Red Retrospot\n",
            " - Medium Ceramic Top Storage Jar\n",
            " - Brocade Ring Purse \n",
            " - Pack Of 60 Pink Paisley Cake Cases\n",
            " - 60 Teatime Fairy Cake Cases\n",
            " - Small Popcorn Holder\n",
            "A mediana das vendas é: 3.0\n",
            "O desvio padrão do valor total de vendas é: 217\n"
          ]
        }
      ]
    }
  ]
}