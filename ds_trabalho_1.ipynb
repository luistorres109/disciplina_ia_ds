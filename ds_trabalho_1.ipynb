{
  "nbformat": 4,
  "nbformat_minor": 0,
  "metadata": {
    "colab": {
      "provenance": [],
      "authorship_tag": "ABX9TyPKjs/9aiGX00cT8v1EjzBn",
      "include_colab_link": true
    },
    "kernelspec": {
      "name": "python3",
      "display_name": "Python 3"
    },
    "language_info": {
      "name": "python"
    }
  },
  "cells": [
    {
      "cell_type": "markdown",
      "metadata": {
        "id": "view-in-github",
        "colab_type": "text"
      },
      "source": [
        "<a href=\"https://colab.research.google.com/github/luistorres109/disciplina_ia_ds/blob/main/ds_trabalho_1.ipynb\" target=\"_parent\"><img src=\"https://colab.research.google.com/assets/colab-badge.svg\" alt=\"Open In Colab\"/></a>"
      ]
    },
    {
      "cell_type": "code",
      "execution_count": 3,
      "metadata": {
        "colab": {
          "base_uri": "https://localhost:8080/"
        },
        "id": "oIaZM-YOLIcL",
        "outputId": "97c438b5-029f-4960-835e-a693ae0ab139"
      },
      "outputs": [
        {
          "output_type": "stream",
          "name": "stdout",
          "text": [
            "Drive already mounted at /content/drive; to attempt to forcibly remount, call drive.mount(\"/content/drive\", force_remount=True).\n"
          ]
        }
      ],
      "source": [
        "from google.colab import drive\n",
        "import pandas as pd\n",
        "\n",
        "drive.mount('/content/drive')"
      ]
    },
    {
      "cell_type": "code",
      "source": [
        "cd drive/MyDrive/"
      ],
      "metadata": {
        "colab": {
          "base_uri": "https://localhost:8080/"
        },
        "id": "TywyLo31NMkH",
        "outputId": "622cc6ef-b976-46f0-a8be-f4faf612e9c4"
      },
      "execution_count": null,
      "outputs": [
        {
          "output_type": "stream",
          "name": "stdout",
          "text": [
            "[Errno 2] No such file or directory: 'drive/MyDrive/'\n",
            "/content/drive/MyDrive\n"
          ]
        }
      ]
    },
    {
      "cell_type": "code",
      "source": [
        "df = pd.read_csv(\"/content/drive/MyDrive/train.csv\")\n",
        "print(df)"
      ],
      "metadata": {
        "colab": {
          "base_uri": "https://localhost:8080/"
        },
        "id": "uMaraNAhND6T",
        "outputId": "c565ecf9-45a5-4015-bcb1-07ba4dc3e1df"
      },
      "execution_count": 4,
      "outputs": [
        {
          "output_type": "stream",
          "name": "stdout",
          "text": [
            "     PassengerId  Survived  Pclass  \\\n",
            "0              1         0       3   \n",
            "1              2         1       1   \n",
            "2              3         1       3   \n",
            "3              4         1       1   \n",
            "4              5         0       3   \n",
            "..           ...       ...     ...   \n",
            "886          887         0       2   \n",
            "887          888         1       1   \n",
            "888          889         0       3   \n",
            "889          890         1       1   \n",
            "890          891         0       3   \n",
            "\n",
            "                                                  Name     Sex   Age  SibSp  \\\n",
            "0                              Braund, Mr. Owen Harris    male  22.0      1   \n",
            "1    Cumings, Mrs. John Bradley (Florence Briggs Th...  female  38.0      1   \n",
            "2                               Heikkinen, Miss. Laina  female  26.0      0   \n",
            "3         Futrelle, Mrs. Jacques Heath (Lily May Peel)  female  35.0      1   \n",
            "4                             Allen, Mr. William Henry    male  35.0      0   \n",
            "..                                                 ...     ...   ...    ...   \n",
            "886                              Montvila, Rev. Juozas    male  27.0      0   \n",
            "887                       Graham, Miss. Margaret Edith  female  19.0      0   \n",
            "888           Johnston, Miss. Catherine Helen \"Carrie\"  female   NaN      1   \n",
            "889                              Behr, Mr. Karl Howell    male  26.0      0   \n",
            "890                                Dooley, Mr. Patrick    male  32.0      0   \n",
            "\n",
            "     Parch            Ticket     Fare Cabin Embarked  \n",
            "0        0         A/5 21171   7.2500   NaN        S  \n",
            "1        0          PC 17599  71.2833   C85        C  \n",
            "2        0  STON/O2. 3101282   7.9250   NaN        S  \n",
            "3        0            113803  53.1000  C123        S  \n",
            "4        0            373450   8.0500   NaN        S  \n",
            "..     ...               ...      ...   ...      ...  \n",
            "886      0            211536  13.0000   NaN        S  \n",
            "887      0            112053  30.0000   B42        S  \n",
            "888      2        W./C. 6607  23.4500   NaN        S  \n",
            "889      0            111369  30.0000  C148        C  \n",
            "890      0            370376   7.7500   NaN        Q  \n",
            "\n",
            "[891 rows x 12 columns]\n"
          ]
        }
      ]
    },
    {
      "cell_type": "code",
      "source": [
        "linhas = df.shape[0]\n",
        "print(\"A quantidade de linhas eh: \" + str(linhas))\n",
        "colunas = df.shape[1]\n",
        "(\"A quantidade de colunas eh: \" + str(colunas))\n",
        "if df.isnull().values.any():\n",
        "  print(\"O dataframe possui dados vazios.\")\n",
        "else:\n",
        "  print(\"Não há nenhum dado vazio.\")\n",
        "\n",
        "media_idades = df['Age'].fillna(0).sum()/df['Age'].count()\n",
        "\n",
        "print(\"A media das idades é \"+str(media_idades))\n",
        "\n",
        "print(\"A quantidade de homens era \"+str(df['Sex'].value_counts()['male'])+\" e mulheres era \"+str(df['Sex'].value_counts()['female']))\n",
        "\n",
        "print(\"A quantidade de pessageiros que sobreviram foi de \"+str(df['Survived'].value_counts()[1])+\" e que morreram foi de \"+str(df['Survived'].value_counts()[0]))\n",
        "\n",
        "print(\"A idade média dos sobreviventes em comparação aos não sobreviventes eh \"+str(df[df['Survived'] == 1]['Age'].sum()/df['Survived'].value_counts()[1]/df[df['Survived'] == 0]['Age'].sum()/df['Survived'].value_counts()[0]))\n",
        "\n",
        "variables = {}\n",
        "\n",
        "variables[\"Classe 1\"] = df[df['Pclass'] == 3]['Survived'].sum()\n",
        "variables[\"Classe 2\"] = df[df['Pclass'] == 3]['Survived'].sum()\n",
        "variables[\"Classe 3\"] = df[df['Pclass'] == 3]['Survived'].sum()\n",
        "\n",
        "print(\"A classe com a maior numero de sobreviventes eh a \"+max(variables, key=variables.get))"
      ],
      "metadata": {
        "colab": {
          "base_uri": "https://localhost:8080/"
        },
        "id": "c-m0BfdrNbEe",
        "outputId": "2fea654d-4b5f-44ba-e947-538348765459"
      },
      "execution_count": 5,
      "outputs": [
        {
          "output_type": "stream",
          "name": "stdout",
          "text": [
            "A quantidade de linhas eh: 891\n",
            "O dataframe possui dados vazios.\n",
            "A media das idades é 29.69911764705882\n",
            "A quantidade de homens era 577 e mulheres era 314\n",
            "A quantidade de pessageiros que sobreviram foi de 342 e que morreram foi de 549\n",
            "A idade média dos sobreviventes em comparação aos não sobreviventes eh 3.3712988695065505e-06\n",
            "A classe com a maior numero de sobreviventes eh a Classe 1\n"
          ]
        }
      ]
    }
  ]
}